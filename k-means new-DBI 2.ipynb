{
 "cells": [
  {
   "cell_type": "code",
   "execution_count": 15,
   "metadata": {},
   "outputs": [],
   "source": [
    "import numpy as np\n",
    "import pandas as pd\n",
    "import matplotlib.pyplot as plt\n",
    "from sklearn import datasets\n",
    "import seaborn as sns\n",
    "from sklearn.cluster import KMeans"
   ]
  },
  {
   "cell_type": "code",
   "execution_count": 16,
   "metadata": {},
   "outputs": [
    {
     "data": {
      "text/html": [
       "<div>\n",
       "<style scoped>\n",
       "    .dataframe tbody tr th:only-of-type {\n",
       "        vertical-align: middle;\n",
       "    }\n",
       "\n",
       "    .dataframe tbody tr th {\n",
       "        vertical-align: top;\n",
       "    }\n",
       "\n",
       "    .dataframe thead th {\n",
       "        text-align: right;\n",
       "    }\n",
       "</style>\n",
       "<table border=\"1\" class=\"dataframe\">\n",
       "  <thead>\n",
       "    <tr style=\"text-align: right;\">\n",
       "      <th></th>\n",
       "      <th>index</th>\n",
       "      <th>sensor_A</th>\n",
       "      <th>sensor_B</th>\n",
       "      <th>sensor_C</th>\n",
       "      <th>sensor_D</th>\n",
       "      <th>sensor_E</th>\n",
       "      <th>sensor_F</th>\n",
       "    </tr>\n",
       "  </thead>\n",
       "  <tbody>\n",
       "    <tr>\n",
       "      <th>0</th>\n",
       "      <td>625</td>\n",
       "      <td>88</td>\n",
       "      <td>21</td>\n",
       "      <td>17</td>\n",
       "      <td>36</td>\n",
       "      <td>25</td>\n",
       "      <td>69</td>\n",
       "    </tr>\n",
       "    <tr>\n",
       "      <th>1</th>\n",
       "      <td>626</td>\n",
       "      <td>88</td>\n",
       "      <td>21</td>\n",
       "      <td>17</td>\n",
       "      <td>36</td>\n",
       "      <td>25</td>\n",
       "      <td>69</td>\n",
       "    </tr>\n",
       "    <tr>\n",
       "      <th>2</th>\n",
       "      <td>627</td>\n",
       "      <td>87</td>\n",
       "      <td>21</td>\n",
       "      <td>17</td>\n",
       "      <td>36</td>\n",
       "      <td>25</td>\n",
       "      <td>69</td>\n",
       "    </tr>\n",
       "    <tr>\n",
       "      <th>3</th>\n",
       "      <td>628</td>\n",
       "      <td>87</td>\n",
       "      <td>21</td>\n",
       "      <td>17</td>\n",
       "      <td>36</td>\n",
       "      <td>25</td>\n",
       "      <td>69</td>\n",
       "    </tr>\n",
       "    <tr>\n",
       "      <th>4</th>\n",
       "      <td>629</td>\n",
       "      <td>83</td>\n",
       "      <td>21</td>\n",
       "      <td>17</td>\n",
       "      <td>36</td>\n",
       "      <td>24</td>\n",
       "      <td>69</td>\n",
       "    </tr>\n",
       "  </tbody>\n",
       "</table>\n",
       "</div>"
      ],
      "text/plain": [
       "   index  sensor_A  sensor_B  sensor_C  sensor_D  sensor_E  sensor_F\n",
       "0    625        88        21        17        36        25        69\n",
       "1    626        88        21        17        36        25        69\n",
       "2    627        87        21        17        36        25        69\n",
       "3    628        87        21        17        36        25        69\n",
       "4    629        83        21        17        36        24        69"
      ]
     },
     "execution_count": 16,
     "metadata": {},
     "output_type": "execute_result"
    }
   ],
   "source": [
    "sensor=pd.read_csv(\"D:/sidang/ta/pollutant.csv\")\n",
    "sensor.head()"
   ]
  },
  {
   "cell_type": "code",
   "execution_count": 17,
   "metadata": {},
   "outputs": [
    {
     "data": {
      "text/html": [
       "<div>\n",
       "<style scoped>\n",
       "    .dataframe tbody tr th:only-of-type {\n",
       "        vertical-align: middle;\n",
       "    }\n",
       "\n",
       "    .dataframe tbody tr th {\n",
       "        vertical-align: top;\n",
       "    }\n",
       "\n",
       "    .dataframe thead th {\n",
       "        text-align: right;\n",
       "    }\n",
       "</style>\n",
       "<table border=\"1\" class=\"dataframe\">\n",
       "  <thead>\n",
       "    <tr style=\"text-align: right;\">\n",
       "      <th></th>\n",
       "      <th>sensor_A</th>\n",
       "      <th>sensor_B</th>\n",
       "      <th>sensor_C</th>\n",
       "      <th>sensor_D</th>\n",
       "      <th>sensor_E</th>\n",
       "      <th>sensor_F</th>\n",
       "    </tr>\n",
       "  </thead>\n",
       "  <tbody>\n",
       "    <tr>\n",
       "      <th>0</th>\n",
       "      <td>88</td>\n",
       "      <td>21</td>\n",
       "      <td>17</td>\n",
       "      <td>36</td>\n",
       "      <td>25</td>\n",
       "      <td>69</td>\n",
       "    </tr>\n",
       "    <tr>\n",
       "      <th>1</th>\n",
       "      <td>88</td>\n",
       "      <td>21</td>\n",
       "      <td>17</td>\n",
       "      <td>36</td>\n",
       "      <td>25</td>\n",
       "      <td>69</td>\n",
       "    </tr>\n",
       "    <tr>\n",
       "      <th>2</th>\n",
       "      <td>87</td>\n",
       "      <td>21</td>\n",
       "      <td>17</td>\n",
       "      <td>36</td>\n",
       "      <td>25</td>\n",
       "      <td>69</td>\n",
       "    </tr>\n",
       "    <tr>\n",
       "      <th>3</th>\n",
       "      <td>87</td>\n",
       "      <td>21</td>\n",
       "      <td>17</td>\n",
       "      <td>36</td>\n",
       "      <td>25</td>\n",
       "      <td>69</td>\n",
       "    </tr>\n",
       "    <tr>\n",
       "      <th>4</th>\n",
       "      <td>83</td>\n",
       "      <td>21</td>\n",
       "      <td>17</td>\n",
       "      <td>36</td>\n",
       "      <td>24</td>\n",
       "      <td>69</td>\n",
       "    </tr>\n",
       "    <tr>\n",
       "      <th>...</th>\n",
       "      <td>...</td>\n",
       "      <td>...</td>\n",
       "      <td>...</td>\n",
       "      <td>...</td>\n",
       "      <td>...</td>\n",
       "      <td>...</td>\n",
       "    </tr>\n",
       "    <tr>\n",
       "      <th>2898</th>\n",
       "      <td>33</td>\n",
       "      <td>52</td>\n",
       "      <td>29</td>\n",
       "      <td>69</td>\n",
       "      <td>27</td>\n",
       "      <td>70</td>\n",
       "    </tr>\n",
       "    <tr>\n",
       "      <th>2899</th>\n",
       "      <td>32</td>\n",
       "      <td>52</td>\n",
       "      <td>28</td>\n",
       "      <td>69</td>\n",
       "      <td>26</td>\n",
       "      <td>69</td>\n",
       "    </tr>\n",
       "    <tr>\n",
       "      <th>2900</th>\n",
       "      <td>32</td>\n",
       "      <td>52</td>\n",
       "      <td>29</td>\n",
       "      <td>68</td>\n",
       "      <td>26</td>\n",
       "      <td>68</td>\n",
       "    </tr>\n",
       "    <tr>\n",
       "      <th>2901</th>\n",
       "      <td>32</td>\n",
       "      <td>55</td>\n",
       "      <td>32</td>\n",
       "      <td>68</td>\n",
       "      <td>28</td>\n",
       "      <td>67</td>\n",
       "    </tr>\n",
       "    <tr>\n",
       "      <th>2902</th>\n",
       "      <td>32</td>\n",
       "      <td>72</td>\n",
       "      <td>43</td>\n",
       "      <td>63</td>\n",
       "      <td>43</td>\n",
       "      <td>59</td>\n",
       "    </tr>\n",
       "  </tbody>\n",
       "</table>\n",
       "<p>2903 rows × 6 columns</p>\n",
       "</div>"
      ],
      "text/plain": [
       "      sensor_A  sensor_B  sensor_C  sensor_D  sensor_E  sensor_F\n",
       "0           88        21        17        36        25        69\n",
       "1           88        21        17        36        25        69\n",
       "2           87        21        17        36        25        69\n",
       "3           87        21        17        36        25        69\n",
       "4           83        21        17        36        24        69\n",
       "...        ...       ...       ...       ...       ...       ...\n",
       "2898        33        52        29        69        27        70\n",
       "2899        32        52        28        69        26        69\n",
       "2900        32        52        29        68        26        68\n",
       "2901        32        55        32        68        28        67\n",
       "2902        32        72        43        63        43        59\n",
       "\n",
       "[2903 rows x 6 columns]"
      ]
     },
     "execution_count": 17,
     "metadata": {},
     "output_type": "execute_result"
    }
   ],
   "source": [
    "sensor=sensor.drop([\"index\"],axis=1)\n",
    "sensor"
   ]
  },
  {
   "cell_type": "code",
   "execution_count": 18,
   "metadata": {},
   "outputs": [
    {
     "data": {
      "text/plain": [
       "(2903, 6)"
      ]
     },
     "execution_count": 18,
     "metadata": {},
     "output_type": "execute_result"
    }
   ],
   "source": [
    "sensor.shape"
   ]
  },
  {
   "cell_type": "code",
   "execution_count": 19,
   "metadata": {},
   "outputs": [
    {
     "name": "stdout",
     "output_type": "stream",
     "text": [
      "<class 'pandas.core.frame.DataFrame'>\n",
      "RangeIndex: 2903 entries, 0 to 2902\n",
      "Data columns (total 6 columns):\n",
      " #   Column    Non-Null Count  Dtype\n",
      "---  ------    --------------  -----\n",
      " 0   sensor_A  2903 non-null   int64\n",
      " 1   sensor_B  2903 non-null   int64\n",
      " 2   sensor_C  2903 non-null   int64\n",
      " 3   sensor_D  2903 non-null   int64\n",
      " 4   sensor_E  2903 non-null   int64\n",
      " 5   sensor_F  2903 non-null   int64\n",
      "dtypes: int64(6)\n",
      "memory usage: 136.2 KB\n"
     ]
    }
   ],
   "source": [
    "sensor.info()"
   ]
  },
  {
   "cell_type": "code",
   "execution_count": 20,
   "metadata": {},
   "outputs": [
    {
     "data": {
      "text/html": [
       "<div>\n",
       "<style scoped>\n",
       "    .dataframe tbody tr th:only-of-type {\n",
       "        vertical-align: middle;\n",
       "    }\n",
       "\n",
       "    .dataframe tbody tr th {\n",
       "        vertical-align: top;\n",
       "    }\n",
       "\n",
       "    .dataframe thead th {\n",
       "        text-align: right;\n",
       "    }\n",
       "</style>\n",
       "<table border=\"1\" class=\"dataframe\">\n",
       "  <thead>\n",
       "    <tr style=\"text-align: right;\">\n",
       "      <th></th>\n",
       "      <th>sensor_A</th>\n",
       "      <th>sensor_B</th>\n",
       "      <th>sensor_C</th>\n",
       "      <th>sensor_D</th>\n",
       "      <th>sensor_E</th>\n",
       "      <th>sensor_F</th>\n",
       "    </tr>\n",
       "  </thead>\n",
       "  <tbody>\n",
       "    <tr>\n",
       "      <th>count</th>\n",
       "      <td>2903.000000</td>\n",
       "      <td>2903.000000</td>\n",
       "      <td>2903.000000</td>\n",
       "      <td>2903.000000</td>\n",
       "      <td>2903.000000</td>\n",
       "      <td>2903.000000</td>\n",
       "    </tr>\n",
       "    <tr>\n",
       "      <th>mean</th>\n",
       "      <td>50.445401</td>\n",
       "      <td>17.965208</td>\n",
       "      <td>12.382708</td>\n",
       "      <td>30.233896</td>\n",
       "      <td>15.451257</td>\n",
       "      <td>56.194626</td>\n",
       "    </tr>\n",
       "    <tr>\n",
       "      <th>std</th>\n",
       "      <td>7.955274</td>\n",
       "      <td>11.276114</td>\n",
       "      <td>5.619261</td>\n",
       "      <td>7.012448</td>\n",
       "      <td>3.915319</td>\n",
       "      <td>3.927190</td>\n",
       "    </tr>\n",
       "    <tr>\n",
       "      <th>min</th>\n",
       "      <td>29.000000</td>\n",
       "      <td>12.000000</td>\n",
       "      <td>9.000000</td>\n",
       "      <td>25.000000</td>\n",
       "      <td>9.000000</td>\n",
       "      <td>47.000000</td>\n",
       "    </tr>\n",
       "    <tr>\n",
       "      <th>25%</th>\n",
       "      <td>48.000000</td>\n",
       "      <td>13.000000</td>\n",
       "      <td>10.000000</td>\n",
       "      <td>28.000000</td>\n",
       "      <td>13.000000</td>\n",
       "      <td>55.000000</td>\n",
       "    </tr>\n",
       "    <tr>\n",
       "      <th>50%</th>\n",
       "      <td>52.000000</td>\n",
       "      <td>14.000000</td>\n",
       "      <td>10.000000</td>\n",
       "      <td>28.000000</td>\n",
       "      <td>15.000000</td>\n",
       "      <td>57.000000</td>\n",
       "    </tr>\n",
       "    <tr>\n",
       "      <th>75%</th>\n",
       "      <td>54.000000</td>\n",
       "      <td>16.000000</td>\n",
       "      <td>11.000000</td>\n",
       "      <td>29.000000</td>\n",
       "      <td>16.000000</td>\n",
       "      <td>57.000000</td>\n",
       "    </tr>\n",
       "    <tr>\n",
       "      <th>max</th>\n",
       "      <td>111.000000</td>\n",
       "      <td>74.000000</td>\n",
       "      <td>44.000000</td>\n",
       "      <td>72.000000</td>\n",
       "      <td>43.000000</td>\n",
       "      <td>78.000000</td>\n",
       "    </tr>\n",
       "  </tbody>\n",
       "</table>\n",
       "</div>"
      ],
      "text/plain": [
       "          sensor_A     sensor_B     sensor_C     sensor_D     sensor_E  \\\n",
       "count  2903.000000  2903.000000  2903.000000  2903.000000  2903.000000   \n",
       "mean     50.445401    17.965208    12.382708    30.233896    15.451257   \n",
       "std       7.955274    11.276114     5.619261     7.012448     3.915319   \n",
       "min      29.000000    12.000000     9.000000    25.000000     9.000000   \n",
       "25%      48.000000    13.000000    10.000000    28.000000    13.000000   \n",
       "50%      52.000000    14.000000    10.000000    28.000000    15.000000   \n",
       "75%      54.000000    16.000000    11.000000    29.000000    16.000000   \n",
       "max     111.000000    74.000000    44.000000    72.000000    43.000000   \n",
       "\n",
       "          sensor_F  \n",
       "count  2903.000000  \n",
       "mean     56.194626  \n",
       "std       3.927190  \n",
       "min      47.000000  \n",
       "25%      55.000000  \n",
       "50%      57.000000  \n",
       "75%      57.000000  \n",
       "max      78.000000  "
      ]
     },
     "execution_count": 20,
     "metadata": {},
     "output_type": "execute_result"
    }
   ],
   "source": [
    "sensor.describe()"
   ]
  },
  {
   "cell_type": "code",
   "execution_count": 21,
   "metadata": {},
   "outputs": [
    {
     "data": {
      "text/html": [
       "<div>\n",
       "<style scoped>\n",
       "    .dataframe tbody tr th:only-of-type {\n",
       "        vertical-align: middle;\n",
       "    }\n",
       "\n",
       "    .dataframe tbody tr th {\n",
       "        vertical-align: top;\n",
       "    }\n",
       "\n",
       "    .dataframe thead th {\n",
       "        text-align: right;\n",
       "    }\n",
       "</style>\n",
       "<table border=\"1\" class=\"dataframe\">\n",
       "  <thead>\n",
       "    <tr style=\"text-align: right;\">\n",
       "      <th></th>\n",
       "      <th>sensor_A</th>\n",
       "      <th>sensor_B</th>\n",
       "      <th>sensor_C</th>\n",
       "      <th>sensor_D</th>\n",
       "      <th>sensor_E</th>\n",
       "      <th>sensor_F</th>\n",
       "    </tr>\n",
       "  </thead>\n",
       "  <tbody>\n",
       "    <tr>\n",
       "      <th>0</th>\n",
       "      <td>88</td>\n",
       "      <td>21</td>\n",
       "      <td>17</td>\n",
       "      <td>36</td>\n",
       "      <td>25</td>\n",
       "      <td>69</td>\n",
       "    </tr>\n",
       "    <tr>\n",
       "      <th>1</th>\n",
       "      <td>88</td>\n",
       "      <td>21</td>\n",
       "      <td>17</td>\n",
       "      <td>36</td>\n",
       "      <td>25</td>\n",
       "      <td>69</td>\n",
       "    </tr>\n",
       "    <tr>\n",
       "      <th>2</th>\n",
       "      <td>87</td>\n",
       "      <td>21</td>\n",
       "      <td>17</td>\n",
       "      <td>36</td>\n",
       "      <td>25</td>\n",
       "      <td>69</td>\n",
       "    </tr>\n",
       "    <tr>\n",
       "      <th>3</th>\n",
       "      <td>87</td>\n",
       "      <td>21</td>\n",
       "      <td>17</td>\n",
       "      <td>36</td>\n",
       "      <td>25</td>\n",
       "      <td>69</td>\n",
       "    </tr>\n",
       "    <tr>\n",
       "      <th>4</th>\n",
       "      <td>83</td>\n",
       "      <td>21</td>\n",
       "      <td>17</td>\n",
       "      <td>36</td>\n",
       "      <td>24</td>\n",
       "      <td>69</td>\n",
       "    </tr>\n",
       "  </tbody>\n",
       "</table>\n",
       "</div>"
      ],
      "text/plain": [
       "   sensor_A  sensor_B  sensor_C  sensor_D  sensor_E  sensor_F\n",
       "0        88        21        17        36        25        69\n",
       "1        88        21        17        36        25        69\n",
       "2        87        21        17        36        25        69\n",
       "3        87        21        17        36        25        69\n",
       "4        83        21        17        36        24        69"
      ]
     },
     "execution_count": 21,
     "metadata": {},
     "output_type": "execute_result"
    }
   ],
   "source": [
    "#atur data\n",
    "x=sensor.iloc[:,0:6]\n",
    "x.head()"
   ]
  },
  {
   "cell_type": "code",
   "execution_count": 22,
   "metadata": {},
   "outputs": [
    {
     "name": "stdout",
     "output_type": "stream",
     "text": [
      "[[88 21 17 36 25 69]\n",
      " [88 21 17 36 25 69]\n",
      " [87 21 17 36 25 69]\n",
      " ...\n",
      " [32 52 29 68 26 68]\n",
      " [32 55 32 68 28 67]\n",
      " [32 72 43 63 43 59]]\n"
     ]
    }
   ],
   "source": [
    "#ubah data ke array\n",
    "x_array = np.array(x)\n",
    "print(x_array)"
   ]
  },
  {
   "cell_type": "code",
   "execution_count": 23,
   "metadata": {},
   "outputs": [
    {
     "data": {
      "image/png": "[encoded data removed]",
      "text/plain": [
       "<Figure size 432x288 with 1 Axes>"
      ]
     },
     "metadata": {
      "needs_background": "light"
     },
     "output_type": "display_data"
    }
   ],
   "source": [
    "from sklearn.metrics import davies_bouldin_score\n",
    "css=[]\n",
    "\n",
    "#Menemukan inersia pada berbagai nilai k\n",
    "for i in range(1,7):\n",
    "    kmeans=KMeans(n_clusters = i, init = 'k-means++', \n",
    "                    max_iter = 100, n_init = 10, random_state = 0).fit(x)\n",
    "    css.append(kmeans.inertia_)\n",
    "    \n",
    "plt.plot(range(1, 7), css, 'bx-', color='green')\n",
    "plt.title('The elbow method')\n",
    "plt.xlabel('Number of clusters')\n",
    "plt.ylabel('CSS') \n",
    "plt.show()\n"
   ]
  },
  {
   "cell_type": "code",
   "execution_count": 24,
   "metadata": {},
   "outputs": [],
   "source": [
    "#evalusi hasil k-means pakai DBI\n",
    "from sklearn.metrics import davies_bouldin_score\n",
    "results = {}\n",
    "\n",
    "for i in range(2,11):\n",
    "    kmeans = KMeans(n_clusters=i, random_state=30)\n",
    "    labels = kmeans.fit_predict(x_array)\n",
    "    db_index = davies_bouldin_score(x_array, labels)\n",
    "    results.update({i: db_index})"
   ]
  },
  {
   "cell_type": "code",
   "execution_count": 25,
   "metadata": {},
   "outputs": [
    {
     "data": {
      "text/plain": [
       "{2: 0.475081875872419,\n",
       " 3: 0.5271314919239054,\n",
       " 4: 0.6785979392169275,\n",
       " 5: 0.5496610548094697,\n",
       " 6: 0.6787295026414174,\n",
       " 7: 0.7789631153107676,\n",
       " 8: 0.8219974395402933,\n",
       " 9: 0.8224977648186336,\n",
       " 10: 0.840162826386123}"
      ]
     },
     "execution_count": 25,
     "metadata": {},
     "output_type": "execute_result"
    }
   ],
   "source": [
    "#hasilnya\n",
    "results"
   ]
  },
  {
   "cell_type": "code",
   "execution_count": 26,
   "metadata": {},
   "outputs": [
    {
     "data": {
      "image/png": "[encoded data removed]",
      "text/plain": [
       "<Figure size 432x288 with 1 Axes>"
      ]
     },
     "metadata": {
      "needs_background": "light"
     },
     "output_type": "display_data"
    }
   ],
   "source": [
    "plt.plot(list(results.keys()), list(results.values()))\n",
    "plt.xlabel(\"Number of clusters\")\n",
    "plt.ylabel(\"Davies-Boulding Index\")\n",
    "plt.show()\n"
   ]
  },
  {
   "cell_type": "code",
   "execution_count": 27,
   "metadata": {},
   "outputs": [],
   "source": [
    "#implementasi k-means\n",
    "kmeans = KMeans(n_clusters=2, random_state = 0)\n",
    "y_kmeans = kmeans.fit_predict(x_array)"
   ]
  },
  {
   "cell_type": "code",
   "execution_count": 28,
   "metadata": {},
   "outputs": [
    {
     "data": {
      "text/plain": [
       "array([[33.99050633, 47.67405063, 26.7943038 , 46.86392405, 21.64556962,\n",
       "        58.81012658],\n",
       "       [52.45535369, 14.33629687, 10.62234248, 28.20255122, 14.69462698,\n",
       "        55.87514496]])"
      ]
     },
     "execution_count": 28,
     "metadata": {},
     "output_type": "execute_result"
    }
   ],
   "source": [
    "kmeans.cluster_centers_"
   ]
  },
  {
   "cell_type": "code",
   "execution_count": 29,
   "metadata": {},
   "outputs": [
    {
     "name": "stdout",
     "output_type": "stream",
     "text": [
      "[1 1 1 ... 0 0 0]\n"
     ]
    }
   ],
   "source": [
    "print(kmeans.labels_)"
   ]
  },
  {
   "cell_type": "code",
   "execution_count": 30,
   "metadata": {},
   "outputs": [],
   "source": [
    "sensor[\"kluster\"]=kmeans.labels_"
   ]
  },
  {
   "cell_type": "code",
   "execution_count": 32,
   "metadata": {},
   "outputs": [],
   "source": [
    "sensor.to_csv(\"result-all-k2.csv\")"
   ]
  },
  {
   "cell_type": "code",
   "execution_count": 33,
   "metadata": {},
   "outputs": [
    {
     "data": {
      "text/plain": [
       "<matplotlib.legend.Legend at 0x21b6210c3a0>"
      ]
     },
     "execution_count": 33,
     "metadata": {},
     "output_type": "execute_result"
    },
    {
     "data": {
      "image/png": "[encoded data removed]",
      "text/plain": [
       "<Figure size 432x288 with 1 Axes>"
      ]
     },
     "metadata": {
      "needs_background": "light"
     },
     "output_type": "display_data"
    }
   ],
   "source": [
    "# Visualising the clusters - On the first two columns\n",
    "plt.scatter(x_array[y_kmeans == 0, 0], x_array[y_kmeans == 0, 1], \n",
    "            s = 100, c = 'red', label = 'level 0')\n",
    "plt.scatter(x_array[y_kmeans == 1, 0], x_array[y_kmeans == 1, 1], \n",
    "            s = 100, c = 'blue', label = 'level 1')\n",
    "\n",
    "# Plotting the centroids of the clusters\n",
    "plt.scatter(kmeans.cluster_centers_[:, 0], kmeans.cluster_centers_[:,1], \n",
    "            s = 100, c = 'black', label = 'Centroids')\n",
    "\n",
    "plt.legend()\n"
   ]
  },
  {
   "cell_type": "code",
   "execution_count": null,
   "metadata": {},
   "outputs": [],
   "source": []
  }
 ],
 "metadata": {
  "kernelspec": {
   "display_name": "Python 3",
   "language": "python",
   "name": "python3"
  },
  "language_info": {
   "codemirror_mode": {
    "name": "ipython",
    "version": 3
   },
   "file_extension": ".py",
   "mimetype": "text/x-python",
   "name": "python",
   "nbconvert_exporter": "python",
   "pygments_lexer": "ipython3",
   "version": "3.8.5"
  }
 },
 "nbformat": 4,
 "nbformat_minor": 4
}
