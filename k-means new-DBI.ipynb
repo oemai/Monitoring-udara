{
 "cells": [
  {
   "cell_type": "code",
   "execution_count": 67,
   "metadata": {},
   "outputs": [],
   "source": [
    "import numpy as np\n",
    "import pandas as pd\n",
    "import matplotlib.pyplot as plt\n",
    "from sklearn import datasets\n",
    "import seaborn as sns\n",
    "from sklearn.cluster import KMeans"
   ]
  },
  {
   "cell_type": "code",
   "execution_count": 68,
   "metadata": {},
   "outputs": [
    {
     "data": {
      "text/html": [
       "<div>\n",
       "<style scoped>\n",
       "    .dataframe tbody tr th:only-of-type {\n",
       "        vertical-align: middle;\n",
       "    }\n",
       "\n",
       "    .dataframe tbody tr th {\n",
       "        vertical-align: top;\n",
       "    }\n",
       "\n",
       "    .dataframe thead th {\n",
       "        text-align: right;\n",
       "    }\n",
       "</style>\n",
       "<table border=\"1\" class=\"dataframe\">\n",
       "  <thead>\n",
       "    <tr style=\"text-align: right;\">\n",
       "      <th></th>\n",
       "      <th>id</th>\n",
       "      <th>time</th>\n",
       "      <th>sensor_A</th>\n",
       "      <th>sensor_B</th>\n",
       "      <th>sensor_C</th>\n",
       "      <th>sensor_D</th>\n",
       "      <th>sensor_E</th>\n",
       "      <th>sensor_F</th>\n",
       "    </tr>\n",
       "  </thead>\n",
       "  <tbody>\n",
       "    <tr>\n",
       "      <th>0</th>\n",
       "      <td>1</td>\n",
       "      <td>4/5/2021 16:44</td>\n",
       "      <td>174</td>\n",
       "      <td>68</td>\n",
       "      <td>73</td>\n",
       "      <td>44</td>\n",
       "      <td>48</td>\n",
       "      <td>202</td>\n",
       "    </tr>\n",
       "    <tr>\n",
       "      <th>1</th>\n",
       "      <td>2</td>\n",
       "      <td>4/5/2021 16:47</td>\n",
       "      <td>170</td>\n",
       "      <td>67</td>\n",
       "      <td>94</td>\n",
       "      <td>44</td>\n",
       "      <td>48</td>\n",
       "      <td>198</td>\n",
       "    </tr>\n",
       "    <tr>\n",
       "      <th>2</th>\n",
       "      <td>3</td>\n",
       "      <td>4/5/2021 16:48</td>\n",
       "      <td>171</td>\n",
       "      <td>67</td>\n",
       "      <td>98</td>\n",
       "      <td>44</td>\n",
       "      <td>49</td>\n",
       "      <td>197</td>\n",
       "    </tr>\n",
       "    <tr>\n",
       "      <th>3</th>\n",
       "      <td>4</td>\n",
       "      <td>4/5/2021 16:49</td>\n",
       "      <td>171</td>\n",
       "      <td>68</td>\n",
       "      <td>91</td>\n",
       "      <td>44</td>\n",
       "      <td>51</td>\n",
       "      <td>196</td>\n",
       "    </tr>\n",
       "    <tr>\n",
       "      <th>4</th>\n",
       "      <td>5</td>\n",
       "      <td>4/5/2021 16:51</td>\n",
       "      <td>174</td>\n",
       "      <td>67</td>\n",
       "      <td>65</td>\n",
       "      <td>47</td>\n",
       "      <td>51</td>\n",
       "      <td>196</td>\n",
       "    </tr>\n",
       "  </tbody>\n",
       "</table>\n",
       "</div>"
      ],
      "text/plain": [
       "   id            time  sensor_A  sensor_B  sensor_C  sensor_D  sensor_E  \\\n",
       "0   1  4/5/2021 16:44       174        68        73        44        48   \n",
       "1   2  4/5/2021 16:47       170        67        94        44        48   \n",
       "2   3  4/5/2021 16:48       171        67        98        44        49   \n",
       "3   4  4/5/2021 16:49       171        68        91        44        51   \n",
       "4   5  4/5/2021 16:51       174        67        65        47        51   \n",
       "\n",
       "   sensor_F  \n",
       "0       202  \n",
       "1       198  \n",
       "2       197  \n",
       "3       196  \n",
       "4       196  "
      ]
     },
     "execution_count": 68,
     "metadata": {},
     "output_type": "execute_result"
    }
   ],
   "source": [
    "sensor=pd.read_csv(\"D:/sidang/ta/all.csv\")\n",
    "sensor.head()"
   ]
  },
  {
   "cell_type": "code",
   "execution_count": 69,
   "metadata": {},
   "outputs": [
    {
     "data": {
      "text/html": [
       "<div>\n",
       "<style scoped>\n",
       "    .dataframe tbody tr th:only-of-type {\n",
       "        vertical-align: middle;\n",
       "    }\n",
       "\n",
       "    .dataframe tbody tr th {\n",
       "        vertical-align: top;\n",
       "    }\n",
       "\n",
       "    .dataframe thead th {\n",
       "        text-align: right;\n",
       "    }\n",
       "</style>\n",
       "<table border=\"1\" class=\"dataframe\">\n",
       "  <thead>\n",
       "    <tr style=\"text-align: right;\">\n",
       "      <th></th>\n",
       "      <th>sensor_A</th>\n",
       "      <th>sensor_B</th>\n",
       "      <th>sensor_C</th>\n",
       "      <th>sensor_D</th>\n",
       "      <th>sensor_E</th>\n",
       "      <th>sensor_F</th>\n",
       "    </tr>\n",
       "  </thead>\n",
       "  <tbody>\n",
       "    <tr>\n",
       "      <th>0</th>\n",
       "      <td>174</td>\n",
       "      <td>68</td>\n",
       "      <td>73</td>\n",
       "      <td>44</td>\n",
       "      <td>48</td>\n",
       "      <td>202</td>\n",
       "    </tr>\n",
       "    <tr>\n",
       "      <th>1</th>\n",
       "      <td>170</td>\n",
       "      <td>67</td>\n",
       "      <td>94</td>\n",
       "      <td>44</td>\n",
       "      <td>48</td>\n",
       "      <td>198</td>\n",
       "    </tr>\n",
       "    <tr>\n",
       "      <th>2</th>\n",
       "      <td>171</td>\n",
       "      <td>67</td>\n",
       "      <td>98</td>\n",
       "      <td>44</td>\n",
       "      <td>49</td>\n",
       "      <td>197</td>\n",
       "    </tr>\n",
       "    <tr>\n",
       "      <th>3</th>\n",
       "      <td>171</td>\n",
       "      <td>68</td>\n",
       "      <td>91</td>\n",
       "      <td>44</td>\n",
       "      <td>51</td>\n",
       "      <td>196</td>\n",
       "    </tr>\n",
       "    <tr>\n",
       "      <th>4</th>\n",
       "      <td>174</td>\n",
       "      <td>67</td>\n",
       "      <td>65</td>\n",
       "      <td>47</td>\n",
       "      <td>51</td>\n",
       "      <td>196</td>\n",
       "    </tr>\n",
       "    <tr>\n",
       "      <th>...</th>\n",
       "      <td>...</td>\n",
       "      <td>...</td>\n",
       "      <td>...</td>\n",
       "      <td>...</td>\n",
       "      <td>...</td>\n",
       "      <td>...</td>\n",
       "    </tr>\n",
       "    <tr>\n",
       "      <th>3523</th>\n",
       "      <td>33</td>\n",
       "      <td>52</td>\n",
       "      <td>29</td>\n",
       "      <td>69</td>\n",
       "      <td>27</td>\n",
       "      <td>70</td>\n",
       "    </tr>\n",
       "    <tr>\n",
       "      <th>3524</th>\n",
       "      <td>32</td>\n",
       "      <td>52</td>\n",
       "      <td>28</td>\n",
       "      <td>69</td>\n",
       "      <td>26</td>\n",
       "      <td>69</td>\n",
       "    </tr>\n",
       "    <tr>\n",
       "      <th>3525</th>\n",
       "      <td>32</td>\n",
       "      <td>52</td>\n",
       "      <td>29</td>\n",
       "      <td>68</td>\n",
       "      <td>26</td>\n",
       "      <td>68</td>\n",
       "    </tr>\n",
       "    <tr>\n",
       "      <th>3526</th>\n",
       "      <td>32</td>\n",
       "      <td>55</td>\n",
       "      <td>32</td>\n",
       "      <td>68</td>\n",
       "      <td>28</td>\n",
       "      <td>67</td>\n",
       "    </tr>\n",
       "    <tr>\n",
       "      <th>3527</th>\n",
       "      <td>32</td>\n",
       "      <td>72</td>\n",
       "      <td>43</td>\n",
       "      <td>63</td>\n",
       "      <td>43</td>\n",
       "      <td>59</td>\n",
       "    </tr>\n",
       "  </tbody>\n",
       "</table>\n",
       "<p>3528 rows × 6 columns</p>\n",
       "</div>"
      ],
      "text/plain": [
       "      sensor_A  sensor_B  sensor_C  sensor_D  sensor_E  sensor_F\n",
       "0          174        68        73        44        48       202\n",
       "1          170        67        94        44        48       198\n",
       "2          171        67        98        44        49       197\n",
       "3          171        68        91        44        51       196\n",
       "4          174        67        65        47        51       196\n",
       "...        ...       ...       ...       ...       ...       ...\n",
       "3523        33        52        29        69        27        70\n",
       "3524        32        52        28        69        26        69\n",
       "3525        32        52        29        68        26        68\n",
       "3526        32        55        32        68        28        67\n",
       "3527        32        72        43        63        43        59\n",
       "\n",
       "[3528 rows x 6 columns]"
      ]
     },
     "execution_count": 69,
     "metadata": {},
     "output_type": "execute_result"
    }
   ],
   "source": [
    "sensor=sensor.drop([\"id\",\"time\"], axis=1)\n",
    "sensor"
   ]
  },
  {
   "cell_type": "code",
   "execution_count": 70,
   "metadata": {},
   "outputs": [
    {
     "data": {
      "text/plain": [
       "(3528, 6)"
      ]
     },
     "execution_count": 70,
     "metadata": {},
     "output_type": "execute_result"
    }
   ],
   "source": [
    "sensor.shape"
   ]
  },
  {
   "cell_type": "code",
   "execution_count": 71,
   "metadata": {},
   "outputs": [
    {
     "name": "stdout",
     "output_type": "stream",
     "text": [
      "<class 'pandas.core.frame.DataFrame'>\n",
      "RangeIndex: 3528 entries, 0 to 3527\n",
      "Data columns (total 6 columns):\n",
      " #   Column    Non-Null Count  Dtype\n",
      "---  ------    --------------  -----\n",
      " 0   sensor_A  3528 non-null   int64\n",
      " 1   sensor_B  3528 non-null   int64\n",
      " 2   sensor_C  3528 non-null   int64\n",
      " 3   sensor_D  3528 non-null   int64\n",
      " 4   sensor_E  3528 non-null   int64\n",
      " 5   sensor_F  3528 non-null   int64\n",
      "dtypes: int64(6)\n",
      "memory usage: 165.5 KB\n"
     ]
    }
   ],
   "source": [
    "sensor.info()"
   ]
  },
  {
   "cell_type": "code",
   "execution_count": 72,
   "metadata": {},
   "outputs": [
    {
     "data": {
      "text/html": [
       "<div>\n",
       "<style scoped>\n",
       "    .dataframe tbody tr th:only-of-type {\n",
       "        vertical-align: middle;\n",
       "    }\n",
       "\n",
       "    .dataframe tbody tr th {\n",
       "        vertical-align: top;\n",
       "    }\n",
       "\n",
       "    .dataframe thead th {\n",
       "        text-align: right;\n",
       "    }\n",
       "</style>\n",
       "<table border=\"1\" class=\"dataframe\">\n",
       "  <thead>\n",
       "    <tr style=\"text-align: right;\">\n",
       "      <th></th>\n",
       "      <th>sensor_A</th>\n",
       "      <th>sensor_B</th>\n",
       "      <th>sensor_C</th>\n",
       "      <th>sensor_D</th>\n",
       "      <th>sensor_E</th>\n",
       "      <th>sensor_F</th>\n",
       "    </tr>\n",
       "  </thead>\n",
       "  <tbody>\n",
       "    <tr>\n",
       "      <th>count</th>\n",
       "      <td>3528.000000</td>\n",
       "      <td>3528.000000</td>\n",
       "      <td>3528.000000</td>\n",
       "      <td>3528.000000</td>\n",
       "      <td>3528.000000</td>\n",
       "      <td>3528.000000</td>\n",
       "    </tr>\n",
       "    <tr>\n",
       "      <th>mean</th>\n",
       "      <td>63.271259</td>\n",
       "      <td>25.271825</td>\n",
       "      <td>17.645125</td>\n",
       "      <td>35.172336</td>\n",
       "      <td>22.670635</td>\n",
       "      <td>68.614796</td>\n",
       "    </tr>\n",
       "    <tr>\n",
       "      <th>std</th>\n",
       "      <td>31.034125</td>\n",
       "      <td>18.959512</td>\n",
       "      <td>13.247954</td>\n",
       "      <td>13.164842</td>\n",
       "      <td>17.735921</td>\n",
       "      <td>29.977260</td>\n",
       "    </tr>\n",
       "    <tr>\n",
       "      <th>min</th>\n",
       "      <td>29.000000</td>\n",
       "      <td>12.000000</td>\n",
       "      <td>9.000000</td>\n",
       "      <td>25.000000</td>\n",
       "      <td>9.000000</td>\n",
       "      <td>47.000000</td>\n",
       "    </tr>\n",
       "    <tr>\n",
       "      <th>25%</th>\n",
       "      <td>49.000000</td>\n",
       "      <td>13.000000</td>\n",
       "      <td>10.000000</td>\n",
       "      <td>28.000000</td>\n",
       "      <td>13.000000</td>\n",
       "      <td>55.000000</td>\n",
       "    </tr>\n",
       "    <tr>\n",
       "      <th>50%</th>\n",
       "      <td>53.000000</td>\n",
       "      <td>14.000000</td>\n",
       "      <td>11.000000</td>\n",
       "      <td>29.000000</td>\n",
       "      <td>16.000000</td>\n",
       "      <td>57.000000</td>\n",
       "    </tr>\n",
       "    <tr>\n",
       "      <th>75%</th>\n",
       "      <td>56.000000</td>\n",
       "      <td>35.000000</td>\n",
       "      <td>19.000000</td>\n",
       "      <td>35.000000</td>\n",
       "      <td>20.000000</td>\n",
       "      <td>61.000000</td>\n",
       "    </tr>\n",
       "    <tr>\n",
       "      <th>max</th>\n",
       "      <td>177.000000</td>\n",
       "      <td>107.000000</td>\n",
       "      <td>98.000000</td>\n",
       "      <td>86.000000</td>\n",
       "      <td>92.000000</td>\n",
       "      <td>204.000000</td>\n",
       "    </tr>\n",
       "  </tbody>\n",
       "</table>\n",
       "</div>"
      ],
      "text/plain": [
       "          sensor_A     sensor_B     sensor_C     sensor_D     sensor_E  \\\n",
       "count  3528.000000  3528.000000  3528.000000  3528.000000  3528.000000   \n",
       "mean     63.271259    25.271825    17.645125    35.172336    22.670635   \n",
       "std      31.034125    18.959512    13.247954    13.164842    17.735921   \n",
       "min      29.000000    12.000000     9.000000    25.000000     9.000000   \n",
       "25%      49.000000    13.000000    10.000000    28.000000    13.000000   \n",
       "50%      53.000000    14.000000    11.000000    29.000000    16.000000   \n",
       "75%      56.000000    35.000000    19.000000    35.000000    20.000000   \n",
       "max     177.000000   107.000000    98.000000    86.000000    92.000000   \n",
       "\n",
       "          sensor_F  \n",
       "count  3528.000000  \n",
       "mean     68.614796  \n",
       "std      29.977260  \n",
       "min      47.000000  \n",
       "25%      55.000000  \n",
       "50%      57.000000  \n",
       "75%      61.000000  \n",
       "max     204.000000  "
      ]
     },
     "execution_count": 72,
     "metadata": {},
     "output_type": "execute_result"
    }
   ],
   "source": [
    "sensor.describe()"
   ]
  },
  {
   "cell_type": "code",
   "execution_count": 73,
   "metadata": {},
   "outputs": [
    {
     "name": "stdout",
     "output_type": "stream",
     "text": [
      "[[174  68  73  44  48 202]\n",
      " [170  67  94  44  48 198]\n",
      " [171  67  98  44  49 197]\n",
      " ...\n",
      " [ 32  52  29  68  26  68]\n",
      " [ 32  55  32  68  28  67]\n",
      " [ 32  72  43  63  43  59]]\n"
     ]
    }
   ],
   "source": [
    "#atur data\n",
    "x=sensor.iloc[:,0:6].values\n",
    "print(x)"
   ]
  },
  {
   "cell_type": "code",
   "execution_count": 74,
   "metadata": {},
   "outputs": [
    {
     "data": {
      "image/png": "[encoded data removed]",
      "text/plain": [
       "<Figure size 432x288 with 1 Axes>"
      ]
     },
     "metadata": {
      "needs_background": "light"
     },
     "output_type": "display_data"
    }
   ],
   "source": [
    "from sklearn.metrics import davies_bouldin_score\n",
    "css=[]\n",
    "\n",
    "#Menemukan inersia pada berbagai nilai k\n",
    "for i in range(1,7):\n",
    "    kmeans=KMeans(n_clusters = i, init = 'k-means++', \n",
    "                    max_iter = 100, n_init = 10, random_state = 0).fit(x)\n",
    "    css.append(kmeans.inertia_)\n",
    "    \n",
    "plt.plot(range(1, 7), css, 'bx-', color='green')\n",
    "plt.title('The elbow method')\n",
    "plt.xlabel('Number of clusters')\n",
    "plt.ylabel('CSS') \n",
    "plt.show()\n"
   ]
  },
  {
   "cell_type": "code",
   "execution_count": 75,
   "metadata": {},
   "outputs": [],
   "source": [
    "#evalusi hasil k-means pakai DBI\n",
    "from sklearn.metrics import davies_bouldin_score\n",
    "results = {}\n",
    "\n",
    "for i in range(2,11):\n",
    "    kmeans = KMeans(n_clusters=i, random_state=30)\n",
    "    labels = kmeans.fit_predict(x)\n",
    "    db_index = davies_bouldin_score(x, labels)\n",
    "    results.update({i: db_index})"
   ]
  },
  {
   "cell_type": "code",
   "execution_count": 76,
   "metadata": {},
   "outputs": [
    {
     "data": {
      "text/plain": [
       "{2: 0.4686190247930213,\n",
       " 3: 0.48937132662326627,\n",
       " 4: 0.5251876532135514,\n",
       " 5: 0.5059473787621218,\n",
       " 6: 0.5268644662414982,\n",
       " 7: 0.5460722523641883,\n",
       " 8: 0.5407761106998793,\n",
       " 9: 0.6242880830551325,\n",
       " 10: 0.6495342146036649}"
      ]
     },
     "execution_count": 76,
     "metadata": {},
     "output_type": "execute_result"
    }
   ],
   "source": [
    "#hasilnya\n",
    "results"
   ]
  },
  {
   "cell_type": "code",
   "execution_count": 77,
   "metadata": {},
   "outputs": [
    {
     "data": {
      "image/png": "[encoded data removed]",
      "text/plain": [
       "<Figure size 432x288 with 1 Axes>"
      ]
     },
     "metadata": {
      "needs_background": "light"
     },
     "output_type": "display_data"
    }
   ],
   "source": [
    "plt.plot(list(results.keys()), list(results.values()))\n",
    "plt.xlabel(\"Number of clusters\")\n",
    "plt.ylabel(\"Davies-Boulding Index\")\n",
    "plt.show()\n"
   ]
  },
  {
   "cell_type": "code",
   "execution_count": 78,
   "metadata": {},
   "outputs": [],
   "source": [
    "#implementasi k-means\n",
    "kmeans = KMeans(n_clusters=2,init = 'k-means++', max_iter = 100, n_init = 10, random_state = 0)\n",
    "y_kmeans = kmeans.fit_predict(x)"
   ]
  },
  {
   "cell_type": "code",
   "execution_count": 79,
   "metadata": {},
   "outputs": [
    {
     "data": {
      "text/plain": [
       "array([[ 50.44540131,  17.96520841,  12.38270754,  30.23389597,\n",
       "         15.45125732,  56.19462625],\n",
       "       [122.8448    ,  59.2096    ,  42.088     ,  58.1104    ,\n",
       "         56.2032    , 126.304     ]])"
      ]
     },
     "execution_count": 79,
     "metadata": {},
     "output_type": "execute_result"
    }
   ],
   "source": [
    "kmeans.cluster_centers_"
   ]
  },
  {
   "cell_type": "code",
   "execution_count": 80,
   "metadata": {},
   "outputs": [
    {
     "name": "stdout",
     "output_type": "stream",
     "text": [
      "[1 1 1 ... 0 0 0]\n"
     ]
    }
   ],
   "source": [
    "print(kmeans.labels_)"
   ]
  },
  {
   "cell_type": "code",
   "execution_count": 81,
   "metadata": {},
   "outputs": [],
   "source": [
    "sensor[\"kluster\"]=kmeans.labels_"
   ]
  },
  {
   "cell_type": "code",
   "execution_count": 82,
   "metadata": {},
   "outputs": [
    {
     "data": {
      "text/plain": [
       "array([[ 50.44540131,  17.96520841,  12.38270754,  30.23389597,\n",
       "         15.45125732,  56.19462625],\n",
       "       [122.8448    ,  59.2096    ,  42.088     ,  58.1104    ,\n",
       "         56.2032    , 126.304     ]])"
      ]
     },
     "execution_count": 82,
     "metadata": {},
     "output_type": "execute_result"
    }
   ],
   "source": [
    "kmeans.cluster_centers_"
   ]
  },
  {
   "cell_type": "code",
   "execution_count": 83,
   "metadata": {},
   "outputs": [
    {
     "data": {
      "text/plain": [
       "<matplotlib.legend.Legend at 0x1bc5abb4430>"
      ]
     },
     "execution_count": 83,
     "metadata": {},
     "output_type": "execute_result"
    },
    {
     "data": {
      "image/png": "[encoded data removed]",
      "text/plain": [
       "<Figure size 432x288 with 1 Axes>"
      ]
     },
     "metadata": {
      "needs_background": "light"
     },
     "output_type": "display_data"
    }
   ],
   "source": [
    "# Visualising the clusters - On the first two columns\n",
    "plt.scatter(x[y_kmeans == 0, 0], x[y_kmeans == 0, 1], \n",
    "            s = 100, c = 'red', label = 'level 0')\n",
    "plt.scatter(x[y_kmeans == 1, 0], x[y_kmeans == 1, 1], \n",
    "            s = 100, c = 'blue', label = 'level 1')\n",
    "\n",
    "# Plotting the centroids of the clusters\n",
    "plt.scatter(kmeans.cluster_centers_[:, 0], kmeans.cluster_centers_[:,1], \n",
    "            s = 100, c = 'black', label = 'Centroids')\n",
    "\n",
    "plt.legend()"
   ]
  },
  {
   "cell_type": "code",
   "execution_count": 84,
   "metadata": {},
   "outputs": [],
   "source": [
    "sensor.to_csv(\"result all-k1.csv\")"
   ]
  },
  {
   "cell_type": "code",
   "execution_count": null,
   "metadata": {},
   "outputs": [],
   "source": []
  }
 ],
 "metadata": {
  "kernelspec": {
   "display_name": "Python 3",
   "language": "python",
   "name": "python3"
  },
  "language_info": {
   "codemirror_mode": {
    "name": "ipython",
    "version": 3
   },
   "file_extension": ".py",
   "mimetype": "text/x-python",
   "name": "python",
   "nbconvert_exporter": "python",
   "pygments_lexer": "ipython3",
   "version": "3.8.5"
  }
 },
 "nbformat": 4,
 "nbformat_minor": 4
}
